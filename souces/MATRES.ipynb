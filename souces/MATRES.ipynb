{
  "nbformat": 4,
  "nbformat_minor": 0,
  "metadata": {
    "colab": {
      "provenance": []
    },
    "kernelspec": {
      "name": "python3",
      "display_name": "Python 3"
    },
    "language_info": {
      "name": "python"
    }
  },
  "cells": [
    {
      "cell_type": "code",
      "source": [
        "data.columns"
      ],
      "metadata": {
        "colab": {
          "base_uri": "https://localhost:8080/"
        },
        "id": "RX9jB9zRUxTi",
        "outputId": "b7fe3842-a3b9-41d7-90ef-3c196fcc0fd4"
      },
      "execution_count": 2,
      "outputs": [
        {
          "output_type": "execute_result",
          "data": {
            "text/plain": [
              "Index(['_unit_id', '_golden', '_unit_state', '_trusted_judgments',\n",
              "       '_last_judgment_at',\n",
              "       'can_the_verb_span_stylecolorblueverb_span_be_anchored_in_time',\n",
              "       'can_the_verb_span_stylecolorblueverb_span_be_anchored_in_time:confidence',\n",
              "       'after', 'before', 'bodytext',\n",
              "       'can_the_verb_span_stylecolorblueverb_span_be_anchored_in_time_gold',\n",
              "       'docid', 'eventid', 'verb'],\n",
              "      dtype='object')"
            ]
          },
          "metadata": {},
          "execution_count": 2
        }
      ]
    },
    {
      "cell_type": "code",
      "source": [
        "import pandas as pd\n",
        "import nltk\n",
        "from nltk.tokenize import sent_tokenize, word_tokenize\n",
        "from collections import Counter\n",
        "\n",
        "# List of CSV files to load\n",
        "files = ['MATRES.csv', 'MATRES2.csv', 'MATRES3.csv']\n",
        "all_cleaned_sentences = []\n",
        "\n",
        "# Tokenize text into sentences from each file\n",
        "nltk.download('punkt')\n",
        "\n",
        "for file in files:\n",
        "    df = pd.read_csv(file)\n",
        "\n",
        "    # Tokenize text into sentences\n",
        "    df['sentences'] = df['bodytext'].apply(sent_tokenize)\n",
        "\n",
        "    # Tokenize words and create a word frequency list\n",
        "    all_words = [word for sentences in df['sentences'] for sent in sentences for word in word_tokenize(sent)]\n",
        "    word_freq = Counter(all_words)\n",
        "\n",
        "    # Extract temporal keywords\n",
        "    temporal_keywords = [word for word, freq in word_freq.items() if any(kw in word.lower() for kw in ['before', 'after', 'during', 'when', 'while', 'since', 'until', 'day', 'month', 'year'])]\n",
        "\n",
        "    # Flatten all sentences into a single list and ensure no repetitions\n",
        "    all_sentences = df['sentences'].sum()\n",
        "    unique_sentences = list(set(all_sentences))  # Removes repeated sentences\n",
        "\n",
        "    # Filter sentences that contain temporal keywords and have <= 20 words\n",
        "    filtered_temporal_sentences = [sent for sent in unique_sentences if len(word_tokenize(sent)) <= 20 and any(keyword in sent for keyword in temporal_keywords)]\n",
        "\n",
        "    # Clean sentences to remove <p> tags\n",
        "    cleaned_sentences = [sent.replace('<p>', '').replace('</p>', '').strip() for sent in filtered_temporal_sentences]\n",
        "\n",
        "    # Append to the master list\n",
        "    all_cleaned_sentences.extend(cleaned_sentences)\n",
        "\n",
        "# Save the filtered sentences to a .txt file\n",
        "with open('filtered_temporal_sentences.txt', 'w') as file:\n",
        "    for sent in set(all_cleaned_sentences):  # Ensure unique sentences across all files\n",
        "        file.write(sent + '\\n')\n",
        "\n",
        "print(\"Filtered temporal sentences saved to 'filtered_temporal_sentences.txt'.\")\n"
      ],
      "metadata": {
        "colab": {
          "base_uri": "https://localhost:8080/"
        },
        "id": "pJw6SAA3bPka",
        "outputId": "4625d96b-c5bf-4188-b2c3-8154c697b3da"
      },
      "execution_count": 10,
      "outputs": [
        {
          "output_type": "stream",
          "name": "stderr",
          "text": [
            "[nltk_data] Downloading package punkt to /root/nltk_data...\n",
            "[nltk_data]   Package punkt is already up-to-date!\n"
          ]
        },
        {
          "output_type": "stream",
          "name": "stdout",
          "text": [
            "Filtered temporal sentences saved to 'filtered_temporal_sentences.txt'.\n"
          ]
        }
      ]
    }
  ]
}